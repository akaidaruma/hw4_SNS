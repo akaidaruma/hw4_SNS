{
 "cells": [
  {
   "cell_type": "code",
   "execution_count": 1,
   "metadata": {},
   "outputs": [],
   "source": [
    "#my_account = {'number': 30, 'name': 'kayla'}\n",
    "#target_account = {'number': 23, 'name': 'jacob'}\n",
    "target_num = 23"
   ]
  },
  {
   "cell_type": "markdown",
   "metadata": {},
   "source": [
    "## linkのリスト化"
   ]
  },
  {
   "cell_type": "code",
   "execution_count": 15,
   "metadata": {},
   "outputs": [],
   "source": [
    "links_file = open(\"links.txt\", \"r\")\n",
    "links = links_file.readlines()\n",
    "links_file.close()\n",
    "link_list = []"
   ]
  },
  {
   "cell_type": "code",
   "execution_count": 16,
   "metadata": {},
   "outputs": [],
   "source": [
    "def txt2linklist(line):\n",
    "    num = \"\"\n",
    "    target = {}\n",
    "    for i in range(len(line)):\n",
    "        if line[i] != \",\":\n",
    "            num += line[i]\n",
    "        else:\n",
    "            target[\"from\"] = int(num)\n",
    "            num = \"\"  \n",
    "        if i==len(line)-1:\n",
    "            target[\"to\"] = int(num)\n",
    "            num = \"\"\n",
    "    return target"
   ]
  },
  {
   "cell_type": "code",
   "execution_count": 17,
   "metadata": {},
   "outputs": [],
   "source": [
    "for line in links:\n",
    "    l = list(line.replace(\"\\t\", \",\").replace(\"\\n\",\"\"))\n",
    "    link_list.append(txt2linklist(l))"
   ]
  },
  {
   "cell_type": "code",
   "execution_count": 18,
   "metadata": {},
   "outputs": [
    {
     "data": {
      "text/plain": [
       "[{'from': 0, 'to': 26},\n",
       " {'from': 0, 'to': 28},\n",
       " {'from': 0, 'to': 9},\n",
       " {'from': 0, 'to': 15},\n",
       " {'from': 0, 'to': 23}]"
      ]
     },
     "execution_count": 18,
     "metadata": {},
     "output_type": "execute_result"
    }
   ],
   "source": [
    "link_list[0:5]"
   ]
  },
  {
   "cell_type": "markdown",
   "metadata": {},
   "source": [
    "## nicknameのリスト化"
   ]
  },
  {
   "cell_type": "code",
   "execution_count": 19,
   "metadata": {},
   "outputs": [],
   "source": [
    "nicknames_file = open(\"nicknames.txt\", \"r\")\n",
    "nicknames = nicknames_file.readlines()\n",
    "nicknames_file.close()\n",
    "nickname_list = []"
   ]
  },
  {
   "cell_type": "code",
   "execution_count": 20,
   "metadata": {},
   "outputs": [],
   "source": [
    "def txt2nicknamelist(line):\n",
    "    num = \"\"\n",
    "    name = \"\"\n",
    "    target = {}\n",
    "    for i in range(len(line)):\n",
    "        if line[i].isdigit():\n",
    "            num += line[i]\n",
    "        else:\n",
    "            name += line[i]\n",
    "        if line[i]==\",\":\n",
    "            target[\"number\"] = int(num)\n",
    "        elif i==len(line)-1:\n",
    "            target[\"name\"] = name.replace(\",\", \"\")\n",
    "    return target"
   ]
  },
  {
   "cell_type": "code",
   "execution_count": 21,
   "metadata": {},
   "outputs": [],
   "source": [
    "for line in nicknames:\n",
    "    n = list(line.replace(\"\\t\", \",\").replace(\"\\n\",\"\"))\n",
    "    nickname_list.append(txt2nicknamelist(n))"
   ]
  },
  {
   "cell_type": "code",
   "execution_count": 22,
   "metadata": {},
   "outputs": [
    {
     "data": {
      "text/plain": [
       "[{'number': 0, 'name': 'alex'},\n",
       " {'number': 1, 'name': 'amy'},\n",
       " {'number': 2, 'name': 'andy'},\n",
       " {'number': 3, 'name': 'anthony'},\n",
       " {'number': 4, 'name': 'billy'}]"
      ]
     },
     "execution_count": 22,
     "metadata": {},
     "output_type": "execute_result"
    }
   ],
   "source": [
    "nickname_list[0:5]"
   ]
  },
  {
   "cell_type": "markdown",
   "metadata": {},
   "source": [
    "## 有向グラフ作る"
   ]
  },
  {
   "cell_type": "code",
   "execution_count": 23,
   "metadata": {},
   "outputs": [
    {
     "name": "stdout",
     "output_type": "stream",
     "text": [
      "[0, 1, 2, 3, 4, 5, 6, 7, 8, 9, 10, 11, 12, 13, 14, 15, 16, 17, 18, 19, 20, 21, 22, 23, 24, 25, 26, 27, 28, 29, 30, 31, 32, 33, 34, 35, 36, 37, 38, 39, 40, 41, 42, 43, 44, 45, 46, 47, 48]\n"
     ]
    }
   ],
   "source": [
    "nodenum_list = [line[\"number\"] for line in nickname_list]\n",
    "print(nodenum_list)"
   ]
  },
  {
   "cell_type": "code",
   "execution_count": 24,
   "metadata": {},
   "outputs": [],
   "source": [
    "relation = []\n",
    "for num in nodenum_list:\n",
    "    relation.append([link.get(\"to\") for link in link_list if link[\"from\"]==num])"
   ]
  },
  {
   "cell_type": "code",
   "execution_count": 25,
   "metadata": {},
   "outputs": [
    {
     "data": {
      "text/plain": [
       "[0, 39, 21, 4, 33, 23]"
      ]
     },
     "execution_count": 25,
     "metadata": {},
     "output_type": "execute_result"
    }
   ],
   "source": [
    "relation[30]"
   ]
  },
  {
   "cell_type": "markdown",
   "metadata": {},
   "source": [
    "## 深さ優先探索"
   ]
  },
  {
   "cell_type": "code",
   "execution_count": 112,
   "metadata": {},
   "outputs": [],
   "source": [
    "def set_unvisited(graph):\n",
    "    visit_states = []\n",
    "    for vertex in range(len(graph)):\n",
    "        visit_states.append(None)\n",
    "    return visit_states"
   ]
  },
  {
   "cell_type": "code",
   "execution_count": 320,
   "metadata": {},
   "outputs": [],
   "source": [
    "def dfs(graph, start, step):\n",
    "    step += 1\n",
    "    states[start] = True\n",
    "    linked.append(start)\n",
    "    if start == target_num:\n",
    "        print(\"found\")\n",
    "        print(step)\n",
    "    for u in graph[start]:\n",
    "        if not states[u]:\n",
    "            dfs(graph, u, step)"
   ]
  },
  {
   "cell_type": "code",
   "execution_count": 97,
   "metadata": {},
   "outputs": [
    {
     "name": "stdout",
     "output_type": "stream",
     "text": [
      "[None, None, None, None, None]\n"
     ]
    }
   ],
   "source": [
    "visit_states = set_unvisited(relation)\n",
    "print(states[0:5])"
   ]
  },
  {
   "cell_type": "code",
   "execution_count": 322,
   "metadata": {},
   "outputs": [
    {
     "name": "stdout",
     "output_type": "stream",
     "text": [
      "found\n",
      "7\n"
     ]
    }
   ],
   "source": [
    "linked = []\n",
    "step = 0\n",
    "dfs(relation, 30, step)"
   ]
  },
  {
   "cell_type": "code",
   "execution_count": 55,
   "metadata": {},
   "outputs": [
    {
     "name": "stdout",
     "output_type": "stream",
     "text": [
      "[9, 21, 24]\n"
     ]
    }
   ],
   "source": [
    "print(relation[23])"
   ]
  },
  {
   "cell_type": "code",
   "execution_count": 244,
   "metadata": {},
   "outputs": [
    {
     "name": "stdout",
     "output_type": "stream",
     "text": [
      "[0, 2, 3, 4, 6, 7, 8, 9, 10, 13, 14, 15, 16, 17, 18, 19, 20, 21, 22, 23, 24, 25, 26, 28, 29, 30, 31, 32, 33, 34, 35, 37, 39, 40, 41, 42, 43, 45, 46, 47, 48]\n"
     ]
    }
   ],
   "source": [
    "print(sorted(linked))"
   ]
  },
  {
   "cell_type": "markdown",
   "metadata": {},
   "source": [
    "## 幅優先探索"
   ]
  },
  {
   "cell_type": "code",
   "execution_count": 145,
   "metadata": {},
   "outputs": [],
   "source": [
    "visit_states = set_unvisited(relation)"
   ]
  },
  {
   "cell_type": "code",
   "execution_count": 146,
   "metadata": {},
   "outputs": [],
   "source": [
    "def bfs(graph, start):\n",
    "    queue = []\n",
    "    visit_states[start] = True\n",
    "    queue.append(start)\n",
    "    route = {}\n",
    "    route[start] = [start]\n",
    "    while queue:\n",
    "        print(queue)\n",
    "        pos = queue.pop(0)\n",
    "        if pos == target_num:\n",
    "#             print(route)\n",
    "            return len(route[pos])-1\n",
    "        for index in graph[pos]:\n",
    "            if visit_states[index] == None:\n",
    "                queue.append(index)\n",
    "                visit_states[index] = True\n",
    "                route[index] = route[pos] + [index]\n",
    "#                 print(route[index])"
   ]
  },
  {
   "cell_type": "code",
   "execution_count": 147,
   "metadata": {},
   "outputs": [
    {
     "name": "stdout",
     "output_type": "stream",
     "text": [
      "[30]\n",
      "[0, 39, 21, 4, 33, 23]\n",
      "[39, 21, 4, 33, 23, 26, 28, 9, 15, 37, 2]\n",
      "[21, 4, 33, 23, 26, 28, 9, 15, 37, 2, 14]\n",
      "[4, 33, 23, 26, 28, 9, 15, 37, 2, 14, 43, 22, 41, 7, 25]\n",
      "[33, 23, 26, 28, 9, 15, 37, 2, 14, 43, 22, 41, 7, 25, 16]\n",
      "[23, 26, 28, 9, 15, 37, 2, 14, 43, 22, 41, 7, 25, 16]\n",
      "{30: [30], 0: [30, 0], 39: [30, 39], 21: [30, 21], 4: [30, 4], 33: [30, 33], 23: [30, 23], 26: [30, 0, 26], 28: [30, 0, 28], 9: [30, 0, 9], 15: [30, 0, 15], 37: [30, 0, 37], 2: [30, 0, 2], 14: [30, 39, 14], 43: [30, 21, 43], 22: [30, 21, 22], 41: [30, 21, 41], 7: [30, 21, 7], 25: [30, 21, 25], 16: [30, 4, 16]}\n",
      "1\n"
     ]
    }
   ],
   "source": [
    "a = bfs(relation, 30)\n",
    "print(a)"
   ]
  },
  {
   "cell_type": "markdown",
   "metadata": {},
   "source": [
    "## きれいにまとめる"
   ]
  },
  {
   "cell_type": "code",
   "execution_count": 2,
   "metadata": {},
   "outputs": [],
   "source": [
    "def read_linkfile(linkfile_name):\n",
    "    links_file = open(\"links.txt\", \"r\")\n",
    "    links = links_file.readlines()\n",
    "    links_file.close()\n",
    "    return links"
   ]
  },
  {
   "cell_type": "code",
   "execution_count": 3,
   "metadata": {},
   "outputs": [],
   "source": [
    "def read_nicknamefile(nicknamefile_name):\n",
    "    nicknames_file = open(\"nicknames.txt\", \"r\")\n",
    "    nicknames = nicknames_file.readlines()\n",
    "    nicknames_file.close()\n",
    "    return nicknames"
   ]
  },
  {
   "cell_type": "code",
   "execution_count": 19,
   "metadata": {},
   "outputs": [],
   "source": [
    "links = read_linkfile(\"links.txt\")\n",
    "nicknames = read_nicknamefile(\"nicknames.txt\")"
   ]
  },
  {
   "cell_type": "code",
   "execution_count": 7,
   "metadata": {},
   "outputs": [],
   "source": [
    "def txt2linklist(line):\n",
    "    num = \"\"\n",
    "    target = {}\n",
    "    for i in range(len(line)):\n",
    "        if line[i] != \",\":\n",
    "            num += line[i]\n",
    "        else:\n",
    "            target[\"from\"] = int(num)\n",
    "            num = \"\"  \n",
    "        if i==len(line)-1:\n",
    "            target[\"to\"] = int(num)\n",
    "            num = \"\"\n",
    "    return target"
   ]
  },
  {
   "cell_type": "code",
   "execution_count": 8,
   "metadata": {},
   "outputs": [],
   "source": [
    "def make_linklist(links):\n",
    "    for line in links:\n",
    "        l = list(line.replace(\"\\t\", \",\").replace(\"\\n\",\"\"))\n",
    "        link_list.append(txt2linklist(l))\n",
    "    return link_list"
   ]
  },
  {
   "cell_type": "code",
   "execution_count": 20,
   "metadata": {},
   "outputs": [],
   "source": [
    "link_list = []\n",
    "link_list = make_linklist(links)"
   ]
  },
  {
   "cell_type": "code",
   "execution_count": 12,
   "metadata": {},
   "outputs": [],
   "source": [
    "def txt2nicknamelist(line):\n",
    "    num = \"\"\n",
    "    name = \"\"\n",
    "    target = {}\n",
    "    for i in range(len(line)):\n",
    "        if line[i].isdigit():\n",
    "            num += line[i]\n",
    "        else:\n",
    "            name += line[i]\n",
    "        if line[i]==\",\":\n",
    "            target[\"number\"] = int(num)\n",
    "        elif i==len(line)-1:\n",
    "            target[\"name\"] = name.replace(\",\", \"\")\n",
    "    return target"
   ]
  },
  {
   "cell_type": "code",
   "execution_count": 13,
   "metadata": {},
   "outputs": [],
   "source": [
    "def make_nicknamelist(nicknames):\n",
    "    for line in nicknames:\n",
    "        n = list(line.replace(\"\\t\", \",\").replace(\"\\n\",\"\"))\n",
    "        nickname_list.append(txt2nicknamelist(n))\n",
    "    return nickname_list"
   ]
  },
  {
   "cell_type": "code",
   "execution_count": 27,
   "metadata": {},
   "outputs": [
    {
     "name": "stdout",
     "output_type": "stream",
     "text": [
      "[{'number': 0, 'name': 'alex'}, {'number': 1, 'name': 'amy'}, {'number': 2, 'name': 'andy'}, {'number': 3, 'name': 'anthony'}, {'number': 4, 'name': 'billy'}, {'number': 5, 'name': 'bradley'}, {'number': 6, 'name': 'carlos'}, {'number': 7, 'name': 'carolyn'}, {'number': 8, 'name': 'cheryl'}, {'number': 9, 'name': 'clayton'}, {'number': 10, 'name': 'craig'}, {'number': 11, 'name': 'daryl'}, {'number': 12, 'name': 'derrick'}, {'number': 13, 'name': 'dwight'}, {'number': 14, 'name': 'elmer'}, {'number': 15, 'name': 'erik'}, {'number': 16, 'name': 'fernando'}, {'number': 17, 'name': 'floyd'}, {'number': 18, 'name': 'gilbert'}, {'number': 19, 'name': 'harry'}, {'number': 20, 'name': 'harvey'}, {'number': 21, 'name': 'isaac'}, {'number': 22, 'name': 'jack'}, {'number': 23, 'name': 'jacob'}, {'number': 24, 'name': 'jacqueline'}, {'number': 25, 'name': 'jason'}, {'number': 26, 'name': 'john'}, {'number': 27, 'name': 'jorge'}, {'number': 28, 'name': 'joyce'}, {'number': 29, 'name': 'karl'}, {'number': 30, 'name': 'kayla'}, {'number': 31, 'name': 'kenneth'}, {'number': 32, 'name': 'kent'}, {'number': 33, 'name': 'marcus'}, {'number': 34, 'name': 'marshall'}, {'number': 35, 'name': 'melvin'}, {'number': 36, 'name': 'mike'}, {'number': 37, 'name': 'nancy'}, {'number': 38, 'name': 'ray'}, {'number': 39, 'name': 'ricky'}, {'number': 40, 'name': 'roland'}, {'number': 41, 'name': 'ryan'}, {'number': 42, 'name': 'sean'}, {'number': 43, 'name': 'sergio'}, {'number': 44, 'name': 'theresa'}, {'number': 45, 'name': 'tom'}, {'number': 46, 'name': 'tommy'}, {'number': 47, 'name': 'victoria'}, {'number': 48, 'name': 'vincent'}]\n"
     ]
    }
   ],
   "source": [
    "nickname_list = []\n",
    "nickname_list = make_nicknamelist(nicknames)\n",
    "print(nickname_list)"
   ]
  },
  {
   "cell_type": "code",
   "execution_count": 14,
   "metadata": {},
   "outputs": [],
   "source": [
    "def make_graph(link_list, nodenum_list):\n",
    "    relation = []\n",
    "    for num in nodenum_list:\n",
    "        relation.append([link.get(\"to\") for link in link_list if link[\"from\"]==num])\n",
    "    return relation"
   ]
  },
  {
   "cell_type": "code",
   "execution_count": 15,
   "metadata": {},
   "outputs": [],
   "source": [
    "link_list = []\n",
    "nickname_list = []"
   ]
  },
  {
   "cell_type": "code",
   "execution_count": 16,
   "metadata": {},
   "outputs": [],
   "source": [
    "nodenum_list = [line[\"number\"] for line in nickname_list]"
   ]
  }
 ],
 "metadata": {
  "kernelspec": {
   "display_name": "Python 3",
   "language": "python",
   "name": "python3"
  },
  "language_info": {
   "codemirror_mode": {
    "name": "ipython",
    "version": 3
   },
   "file_extension": ".py",
   "mimetype": "text/x-python",
   "name": "python",
   "nbconvert_exporter": "python",
   "pygments_lexer": "ipython3",
   "version": "3.6.2"
  }
 },
 "nbformat": 4,
 "nbformat_minor": 2
}
