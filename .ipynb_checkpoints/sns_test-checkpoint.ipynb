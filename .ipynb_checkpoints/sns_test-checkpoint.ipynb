{
 "cells": [
  {
   "cell_type": "code",
   "execution_count": 44,
   "metadata": {},
   "outputs": [],
   "source": [
    "#my_account = {'number': 30, 'name': 'kayla'}"
   ]
  },
  {
   "cell_type": "markdown",
   "metadata": {},
   "source": [
    "## linkのリスト化"
   ]
  },
  {
   "cell_type": "code",
   "execution_count": 22,
   "metadata": {},
   "outputs": [],
   "source": [
    "links_file = open(\"links.txt\", \"r\")\n",
    "links = links_file.readlines()\n",
    "links_file.close()\n",
    "link_list = []"
   ]
  },
  {
   "cell_type": "code",
   "execution_count": 23,
   "metadata": {},
   "outputs": [],
   "source": [
    "def txt2linklist(line):\n",
    "    num = \"\"\n",
    "    target = {}\n",
    "    for i in range(len(line)):\n",
    "        if line[i] != \",\":\n",
    "            num += line[i]\n",
    "        else:\n",
    "            target[\"from\"] = int(num)\n",
    "            num = \"\"  \n",
    "        if i==len(line)-1:\n",
    "            target[\"to\"] = int(num)\n",
    "            num = \"\"\n",
    "    return target"
   ]
  },
  {
   "cell_type": "code",
   "execution_count": 24,
   "metadata": {},
   "outputs": [],
   "source": [
    "for line in links:\n",
    "    l = list(line.replace(\"\\t\", \",\").replace(\"\\n\",\"\"))\n",
    "    link_list.append(txt2linklist(l))"
   ]
  },
  {
   "cell_type": "code",
   "execution_count": 25,
   "metadata": {},
   "outputs": [
    {
     "data": {
      "text/plain": [
       "[{'from': 0, 'to': 26},\n",
       " {'from': 0, 'to': 28},\n",
       " {'from': 0, 'to': 9},\n",
       " {'from': 0, 'to': 15},\n",
       " {'from': 0, 'to': 23}]"
      ]
     },
     "execution_count": 25,
     "metadata": {},
     "output_type": "execute_result"
    }
   ],
   "source": [
    "link_list[0:5]"
   ]
  },
  {
   "cell_type": "markdown",
   "metadata": {},
   "source": [
    "## nicknameのリスト化"
   ]
  },
  {
   "cell_type": "code",
   "execution_count": 18,
   "metadata": {},
   "outputs": [],
   "source": [
    "nicknames_file = open(\"nicknames.txt\", \"r\")\n",
    "nicknames = nicknames_file.readlines()\n",
    "nicknames_file.close()\n",
    "nickname_list = []"
   ]
  },
  {
   "cell_type": "code",
   "execution_count": 19,
   "metadata": {},
   "outputs": [],
   "source": [
    "def txt2nicknamelist(line):\n",
    "    num = \"\"\n",
    "    name = \"\"\n",
    "    target = {}\n",
    "    for i in range(len(line)):\n",
    "        if line[i].isdigit():\n",
    "            num += line[i]\n",
    "        else:\n",
    "            name += line[i]\n",
    "        if line[i]==\",\":\n",
    "            target[\"number\"] = int(num)\n",
    "        elif i==len(line)-1:\n",
    "            target[\"name\"] = name.replace(\",\", \"\")\n",
    "    return target"
   ]
  },
  {
   "cell_type": "code",
   "execution_count": 20,
   "metadata": {},
   "outputs": [],
   "source": [
    "for line in nicknames:\n",
    "    n = list(line.replace(\"\\t\", \",\").replace(\"\\n\",\"\"))\n",
    "    nickname_list.append(txt2nicknamelist(n))"
   ]
  },
  {
   "cell_type": "code",
   "execution_count": 45,
   "metadata": {},
   "outputs": [
    {
     "data": {
      "text/plain": [
       "[{'number': 0, 'name': 'alex'},\n",
       " {'number': 1, 'name': 'amy'},\n",
       " {'number': 2, 'name': 'andy'},\n",
       " {'number': 3, 'name': 'anthony'},\n",
       " {'number': 4, 'name': 'billy'}]"
      ]
     },
     "execution_count": 45,
     "metadata": {},
     "output_type": "execute_result"
    }
   ],
   "source": [
    "nickname_list[0:5]"
   ]
  },
  {
   "cell_type": "markdown",
   "metadata": {},
   "source": [
    "## 有向グラフ作る"
   ]
  },
  {
   "cell_type": "code",
   "execution_count": 29,
   "metadata": {},
   "outputs": [
    {
     "name": "stdout",
     "output_type": "stream",
     "text": [
      "[0, 1, 2, 3, 4, 5, 6, 7, 8, 9, 10, 11, 12, 13, 14, 15, 16, 17, 18, 19, 20, 21, 22, 23, 24, 25, 26, 27, 28, 29, 30, 31, 32, 33, 34, 35, 36, 37, 38, 39, 40, 41, 42, 43, 44, 45, 46, 47, 48]\n"
     ]
    }
   ],
   "source": [
    "nodenum_list = [line[\"number\"] for line in nickname_list]\n",
    "print(nodenum_list)"
   ]
  },
  {
   "cell_type": "code",
   "execution_count": 40,
   "metadata": {},
   "outputs": [],
   "source": [
    "relation = []\n",
    "for num in nodenum_list:\n",
    "    relation.append([link.get(\"to\") for link in link_list if link[\"from\"]==num])"
   ]
  },
  {
   "cell_type": "code",
   "execution_count": 48,
   "metadata": {},
   "outputs": [
    {
     "data": {
      "text/plain": [
       "[[26, 28, 9, 15, 23, 37, 2],\n",
       " [12, 36, 11],\n",
       " [26, 43, 28, 9, 0, 15, 23, 37],\n",
       " [26, 46, 32, 35, 17],\n",
       " [39, 33, 16, 30]]"
      ]
     },
     "execution_count": 48,
     "metadata": {},
     "output_type": "execute_result"
    }
   ],
   "source": [
    "relation[0:5]"
   ]
  },
  {
   "cell_type": "markdown",
   "metadata": {},
   "source": [
    "## 深さ優先探索"
   ]
  },
  {
   "cell_type": "code",
   "execution_count": 62,
   "metadata": {},
   "outputs": [],
   "source": [
    "def set_unvisited(graph):\n",
    "    visit_states = []\n",
    "    for vertex in range(len(graph)):\n",
    "        visit_states.append(None)\n",
    "    return visit_states"
   ]
  },
  {
   "cell_type": "code",
   "execution_count": 107,
   "metadata": {},
   "outputs": [],
   "source": [
    "def dfs(graph, start, step):\n",
    "    states[start] = True\n",
    "    step += 1\n",
    "    linked.append(start)\n",
    "    for u in graph[start]:\n",
    "        if not states[u]:\n",
    "            dfs(graph, u, step)"
   ]
  },
  {
   "cell_type": "code",
   "execution_count": 108,
   "metadata": {},
   "outputs": [
    {
     "name": "stdout",
     "output_type": "stream",
     "text": [
      "[None, None, None, None, None]\n"
     ]
    }
   ],
   "source": [
    "states = set_unvisited(relation)\n",
    "print(states[0:5])"
   ]
  },
  {
   "cell_type": "code",
   "execution_count": 109,
   "metadata": {},
   "outputs": [],
   "source": [
    "linked = []\n",
    "step = 0\n",
    "dfs(relation, 30, step)"
   ]
  },
  {
   "cell_type": "code",
   "execution_count": 110,
   "metadata": {},
   "outputs": [
    {
     "name": "stdout",
     "output_type": "stream",
     "text": [
      "[0, 2, 3, 4, 6, 7, 8, 9, 10, 13, 14, 15, 16, 17, 18, 19, 20, 21, 22, 23, 24, 25, 26, 28, 29, 30, 31, 32, 33, 34, 35, 37, 39, 40, 41, 42, 43, 45, 46, 47, 48]\n"
     ]
    }
   ],
   "source": [
    "print(sorted(linked))"
   ]
  },
  {
   "cell_type": "code",
   "execution_count": null,
   "metadata": {},
   "outputs": [],
   "source": []
  }
 ],
 "metadata": {
  "kernelspec": {
   "display_name": "Python 3",
   "language": "python",
   "name": "python3"
  },
  "language_info": {
   "codemirror_mode": {
    "name": "ipython",
    "version": 3
   },
   "file_extension": ".py",
   "mimetype": "text/x-python",
   "name": "python",
   "nbconvert_exporter": "python",
   "pygments_lexer": "ipython3",
   "version": "3.6.2"
  }
 },
 "nbformat": 4,
 "nbformat_minor": 2
}
